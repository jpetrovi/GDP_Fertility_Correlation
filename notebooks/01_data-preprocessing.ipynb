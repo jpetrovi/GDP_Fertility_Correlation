{
 "cells": [
  {
   "cell_type": "code",
   "execution_count": 1,
   "id": "bacterial-network",
   "metadata": {},
   "outputs": [],
   "source": [
    "import pandas as pd\n",
    "from IPython.display import display\n",
    "\n",
    "RAW_DATA_DIR = '../data/raw'\n",
    "PROCESSED_DATA_FILENAME = '../data/processed/gdp_fertility.csv'\n",
    "\n",
    "FERTILITY_RATES = RAW_DATA_DIR + '/API_SP.DYN.TFRT.IN_DS2_EN_csv_v2_2163843.csv'\n",
    "GDPS = RAW_DATA_DIR + '/API_NY.GDP.PCAP.PP.CD_DS2_en_csv_v2_2183937.csv'\n",
    "\n",
    "fert_df = pd.read_csv(FERTILITY_RATES, header=2)\n",
    "fert_df = fert_df[['Country Name', '2016']]\n",
    "fert_df = fert_df[fert_df['2016'].notnull()]\n",
    "gdps_df = pd.read_csv(GDPS, header = 2)\n",
    "gdps_df = gdps_df[['Country Name', '2016']]\n",
    "gdps_df = gdps_df[gdps_df['2016'].notnull()]\n",
    "fert_df.rename(columns={'2016' : 'fertility'}, inplace=True)\n",
    "gdps_df.rename(columns={'2016': 'gdp'}, inplace=True)\n",
    "merged_df = pd.merge(fert_df, gdps_df, on='Country Name')\n",
    "merged_df = merged_df[merged_df['fertility'].notnull()]\n",
    "merged_df = merged_df[merged_df['gdp'].notnull()]\n",
    "merged_df.to_csv(PROCESSED_DATA_FILENAME, sep=',', index=False)"
   ]
  },
  {
   "cell_type": "code",
   "execution_count": null,
   "id": "pointed-bronze",
   "metadata": {},
   "outputs": [],
   "source": []
  },
  {
   "cell_type": "code",
   "execution_count": null,
   "id": "accurate-software",
   "metadata": {},
   "outputs": [],
   "source": []
  },
  {
   "cell_type": "code",
   "execution_count": null,
   "id": "intelligent-causing",
   "metadata": {},
   "outputs": [],
   "source": []
  },
  {
   "cell_type": "code",
   "execution_count": null,
   "id": "peaceful-spirituality",
   "metadata": {},
   "outputs": [],
   "source": []
  },
  {
   "cell_type": "code",
   "execution_count": null,
   "id": "after-accreditation",
   "metadata": {},
   "outputs": [],
   "source": []
  },
  {
   "cell_type": "code",
   "execution_count": null,
   "id": "induced-angle",
   "metadata": {},
   "outputs": [],
   "source": []
  }
 ],
 "metadata": {
  "kernelspec": {
   "display_name": "Python 3",
   "language": "python",
   "name": "python3"
  },
  "language_info": {
   "codemirror_mode": {
    "name": "ipython",
    "version": 3
   },
   "file_extension": ".py",
   "mimetype": "text/x-python",
   "name": "python",
   "nbconvert_exporter": "python",
   "pygments_lexer": "ipython3",
   "version": "3.9.1"
  }
 },
 "nbformat": 4,
 "nbformat_minor": 5
}
